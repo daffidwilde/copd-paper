{
 "cells": [
  {
   "cell_type": "markdown",
   "metadata": {},
   "source": [
    "# What-if scenarios\n",
    "\n",
    "In this stage of the analysis, we want to find how changes to the parameters of our model affect the simulated data.\n",
    "\n",
    "Some areas of interest are:\n",
    "\n",
    "- How would server utilisation (i.e. resource consumption) be affected by an increase in overall patient arrivals?\n",
    "- How is the system affected by certain types of patients (e.g. short-stay, low-impact) arriving less frequently?\n",
    "- What are the sensitivities of mean system times and server utilisation based on a change in $c$?"
   ]
  },
  {
   "cell_type": "code",
   "execution_count": 1,
   "metadata": {},
   "outputs": [],
   "source": [
    "import glob\n",
    "import itertools as it\n",
    "import time\n",
    "\n",
    "from ciw.dists import Exponential\n",
    "from dask.diagnostics import ProgressBar\n",
    "from scipy import stats\n",
    "\n",
    "import ciw\n",
    "import dask\n",
    "import matplotlib.pyplot as plt\n",
    "import numpy as np\n",
    "import pandas as pd\n",
    "\n",
    "%matplotlib inline\n",
    "plt.style.use(\"seaborn-colorblind\")"
   ]
  },
  {
   "cell_type": "code",
   "execution_count": 2,
   "metadata": {},
   "outputs": [],
   "source": [
    "copd = pd.read_csv(\n",
    "    \"../data/clusters/copd_clustered.csv\", parse_dates=[\"admission_date\", \"discharge_date\"]\n",
    ").dropna(subset=[\"cluster\"])\n",
    "\n",
    "copd[\"cluster\"] = copd[\"cluster\"].astype(int)\n",
    "n_clusters = copd[\"cluster\"].nunique()"
   ]
  },
  {
   "cell_type": "code",
   "execution_count": 3,
   "metadata": {},
   "outputs": [
    {
     "data": {
      "text/plain": [
       "([0.95, 1.0, 1.0, 0.5], 40)"
      ]
     },
     "execution_count": 3,
     "metadata": {},
     "output_type": "execute_result"
    }
   ],
   "source": [
    "with open(\"../data/wasserstein/best/params.txt\", \"r\") as f:\n",
    "    strings = f.read().split(\" \")\n",
    "    props, num_servers = list(map(float, strings[:-2])), int(strings[-2])\n",
    "\n",
    "props, num_servers"
   ]
  },
  {
   "cell_type": "markdown",
   "metadata": {},
   "source": [
    "## Change in overall patient arrivals"
   ]
  },
  {
   "cell_type": "code",
   "execution_count": null,
   "metadata": {},
   "outputs": [],
   "source": [
    "lambda_results = pd.concat(\n",
    "    (pd.read_csv(filename) for filename in glob.iglob(\"../data/lambda_scaling/*.csv\"))\n",
    ")"
   ]
  },
  {
   "cell_type": "code",
   "execution_count": null,
   "metadata": {},
   "outputs": [],
   "source": [
    "lambda_originals = lambda_results[lambda_results[\"lambda_coeff\"].round(2) == 1]\n",
    "lambda_mean_utilisation = lambda_originals[\"utilisation\"].mean()\n",
    "lambda_mean_system_time = lambda_originals[\"system_time\"].mean()\n",
    "\n",
    "lambda_results[\"relative_utilisation\"] = lambda_results[\"utilisation\"] / lambda_mean_utilisation\n",
    "lambda_results[\"relative_system_time\"] = lambda_results[\"system_time\"] / lambda_mean_system_time"
   ]
  },
  {
   "cell_type": "code",
   "execution_count": null,
   "metadata": {},
   "outputs": [],
   "source": [
    "lambda_utilisations = lambda_results.groupby(\"lambda_coeff\")[\"relative_utilisation\"]\n",
    "\n",
    "lower_utilisation = lambda_utilisations.quantile(0.025)\n",
    "mean_utilisation = lambda_utilisations.mean()\n",
    "upper_utilisation = lambda_utilisations.quantile(0.975)"
   ]
  },
  {
   "cell_type": "code",
   "execution_count": null,
   "metadata": {},
   "outputs": [],
   "source": [
    "fig, ax = plt.subplots(dpi=200)\n",
    "\n",
    "ax.plot(mean_utilisation, label=\"Mean\")\n",
    "ax.fill_between(\n",
    "    lower_utilisation.index, lower_utilisation, upper_utilisation, alpha=0.25, label=\"95% interval\"\n",
    ")\n",
    "\n",
    "ax.legend()\n",
    "ax.set(\n",
    "    xlabel=\"$\\lambda$ scaling factor\",\n",
    "    ylabel=\"Relative server utilisation\",\n",
    ")\n",
    "\n",
    "plt.savefig(\"../img/lambda_utilisation.pdf\", transparent=True)"
   ]
  },
  {
   "cell_type": "code",
   "execution_count": null,
   "metadata": {},
   "outputs": [],
   "source": [
    "lambda_times = lambda_results.groupby(\"lambda_coeff\")[\"relative_system_time\"]\n",
    "\n",
    "lower_times = lambda_times.quantile(0.025)\n",
    "mean_times = lambda_times.mean()\n",
    "upper_times = lambda_times.quantile(0.975)"
   ]
  },
  {
   "cell_type": "code",
   "execution_count": null,
   "metadata": {},
   "outputs": [],
   "source": [
    "fig, ax = plt.subplots(dpi=200)\n",
    "\n",
    "ax.plot(mean_times, label=\"Mean\")\n",
    "ax.fill_between(\n",
    "    lower_times.index, lower_times, upper_times, alpha=0.25, label=\"95% interval\"\n",
    ")\n",
    "\n",
    "ax.legend()\n",
    "ax.set(\n",
    "    xlabel=\"$\\lambda$ scaling factor\",\n",
    "    ylabel=\"Relative system time (logscale)\",\n",
    "    yscale=\"log\",\n",
    ")\n",
    "\n",
    "plt.savefig(\"../img/lambda_time.pdf\", transparent=True)"
   ]
  },
  {
   "cell_type": "markdown",
   "metadata": {},
   "source": [
    "## Sensitivity analysis for $c$"
   ]
  },
  {
   "cell_type": "code",
   "execution_count": null,
   "metadata": {},
   "outputs": [],
   "source": [
    "server_results = pd.concat(\n",
    "    (pd.read_csv(filename) for filename in glob.iglob(\"../data/num_servers_change/*.csv\"))\n",
    ")\n",
    "\n",
    "server_results[\"relative_num_servers\"] = server_results[\"num_servers\"] / num_servers"
   ]
  },
  {
   "cell_type": "code",
   "execution_count": null,
   "metadata": {},
   "outputs": [],
   "source": [
    "server_originals = server_results[server_results[\"relative_num_servers\"] == 1]\n",
    "server_mean_utilisation = server_originals[\"utilisation\"].mean()\n",
    "server_mean_system_time = server_originals[\"system_time\"].mean()\n",
    "\n",
    "server_results[\"relative_utilisation\"] = server_results[\"utilisation\"] / server_mean_utilisation\n",
    "server_results[\"relative_system_time\"] = server_results[\"system_time\"] / server_mean_system_time"
   ]
  },
  {
   "cell_type": "code",
   "execution_count": null,
   "metadata": {
    "scrolled": true
   },
   "outputs": [],
   "source": [
    "server_utilisations = server_results.groupby(\"relative_num_servers\")[\"relative_utilisation\"]\n",
    "\n",
    "lower_utilisation = server_utilisations.quantile(0.025)\n",
    "mean_utilisation = server_utilisations.mean()\n",
    "upper_utilisation = server_utilisations.quantile(0.975)"
   ]
  },
  {
   "cell_type": "code",
   "execution_count": null,
   "metadata": {},
   "outputs": [],
   "source": [
    "fig, ax = plt.subplots(dpi=200)\n",
    "\n",
    "ax.plot(mean_utilisation, label=\"Mean\")\n",
    "ax.fill_between(\n",
    "    lower_utilisation.index, lower_utilisation, upper_utilisation, alpha=0.25, label=\"95% interval\"\n",
    ")\n",
    "\n",
    "ax.legend()\n",
    "ax.set(\n",
    "    xlabel=\"Relative no. of servers\",\n",
    "    ylabel=\"Relative server utilisation\",\n",
    ")\n",
    "\n",
    "plt.savefig(\"../img/servers_utilisation.pdf\", transparent=True)"
   ]
  },
  {
   "cell_type": "code",
   "execution_count": null,
   "metadata": {},
   "outputs": [],
   "source": [
    "server_times = server_results.groupby(\"relative_num_servers\")[\"relative_system_time\"]\n",
    "\n",
    "lower_times = server_times.quantile(0.025)\n",
    "mean_times = server_times.mean()\n",
    "upper_times = server_times.quantile(0.975)"
   ]
  },
  {
   "cell_type": "code",
   "execution_count": null,
   "metadata": {},
   "outputs": [],
   "source": [
    "fig, ax = plt.subplots(dpi=200)\n",
    "\n",
    "ax.plot(mean_times, label=\"Mean\")\n",
    "ax.fill_between(\n",
    "    lower_times.index, lower_times, upper_times, alpha=0.25, label=\"95% interval\"\n",
    ")\n",
    "\n",
    "ax.legend()\n",
    "ax.set(\n",
    "    xlabel=\"Relative no. of servers\",\n",
    "    ylabel=\"Relative system time (logscale)\",\n",
    "    yscale=\"log\",\n",
    ")\n",
    "\n",
    "plt.savefig(\"../img/servers_time.pdf\", transparent=True)"
   ]
  },
  {
   "cell_type": "markdown",
   "metadata": {},
   "source": [
    "## Transferring patients between clusters"
   ]
  },
  {
   "cell_type": "code",
   "execution_count": null,
   "metadata": {},
   "outputs": [],
   "source": [
    "moving_results = pd.concat(\n",
    "    [pd.read_csv(filename) for filename in glob.iglob(\"../data/moving_clusters/*.csv\")]\n",
    ")"
   ]
  },
  {
   "cell_type": "code",
   "execution_count": null,
   "metadata": {},
   "outputs": [],
   "source": [
    "def get_plotting_data(data, column):\n",
    "\n",
    "    data = data.copy()\n",
    "    original_mean = data[data[\"prop_to_move\"] == 0][column].mean()\n",
    "    data[f\"relative_{column}\"] = data[column] / original_mean\n",
    "\n",
    "    values = data.groupby(\"prop_to_move\")[f\"relative_{column}\"]\n",
    "\n",
    "    lower = values.quantile(0.025)\n",
    "    mean = values.mean()\n",
    "    upper = values.quantile(0.975)\n",
    "\n",
    "    return lower, mean, upper\n",
    "\n",
    "\n",
    "def make_split_plot(column, ylabel_text, path=None, yscale=\"linear\"):\n",
    "\n",
    "    fig, axes = plt.subplots(\n",
    "        nrows=n_clusters,\n",
    "        ncols=n_clusters,\n",
    "        sharex=True,\n",
    "        sharey=True,\n",
    "        figsize=(7, 7),\n",
    "        dpi=300,\n",
    "    )\n",
    "\n",
    "    left, width = .25, .5\n",
    "    bottom, height = .25, .5\n",
    "    right = left + width\n",
    "    top = bottom + height\n",
    "\n",
    "    ylabel = fig.text(\n",
    "        0, 0.5*(bottom+top), ylabel_text, ha=\"right\", va=\"center\", rotation=\"vertical\"\n",
    "    )\n",
    "\n",
    "    xlabel = fig.text(\n",
    "        0.5*(left+right), -0.01, \"Transfer proportion\", ha=\"center\", va=\"bottom\", rotation=\"horizontal\"\n",
    "    )\n",
    "\n",
    "    for origin, destination in it.product(range(n_clusters), repeat=2):\n",
    "\n",
    "        ax = axes[origin, destination]\n",
    "        ax.set_yscale(yscale)\n",
    "\n",
    "        if origin != destination:\n",
    "            data = moving_results[\n",
    "                (moving_results[\"origin\"] == origin)\n",
    "                & (moving_results[\"destination\"] == destination)\n",
    "            ]\n",
    "\n",
    "            lower, mean, upper = get_plotting_data(data, column)\n",
    "\n",
    "            ax.plot(mean)\n",
    "            ax.fill_between(lower.index, lower, upper, alpha=0.25)\n",
    "            ax.set_title(f\"{origin} to {destination}\")\n",
    "\n",
    "    plt.tight_layout()\n",
    "    if path is not None:\n",
    "        plt.savefig(\n",
    "            path,\n",
    "            bbox_extra_artists=(xlabel, ylabel),\n",
    "            bbox_inches=\"tight\",\n",
    "            transparent=True,\n",
    "        )"
   ]
  },
  {
   "cell_type": "code",
   "execution_count": null,
   "metadata": {},
   "outputs": [],
   "source": [
    "make_split_plot(\n",
    "    column=\"utilisation\",\n",
    "    ylabel_text=\"Relative server utilisation\",\n",
    "    path=\"../img/moving_utilisation.pdf\",\n",
    ")"
   ]
  },
  {
   "cell_type": "code",
   "execution_count": null,
   "metadata": {},
   "outputs": [],
   "source": [
    "make_split_plot(\n",
    "    column=\"system_time\",\n",
    "    ylabel_text=\"Relative system time (logscale)\",\n",
    "    path=\"../img/moving_time.pdf\",\n",
    "    yscale=\"log\",\n",
    ")"
   ]
  },
  {
   "cell_type": "code",
   "execution_count": null,
   "metadata": {
    "scrolled": false
   },
   "outputs": [],
   "source": [
    "fig, axes = plt.subplots(nrows=n_clusters, ncols=n_clusters, sharex=True, sharey=True, figsize=(7, 7), dpi=300)\n",
    "\n",
    "left, width = .25, .5\n",
    "bottom, height = .25, .5\n",
    "right = left + width\n",
    "top = bottom + height\n",
    "\n",
    "ylabel = fig.text(\n",
    "    0, 0.5*(bottom+top), \"Relative system time\", ha=\"right\", va=\"center\", rotation=\"vertical\"\n",
    ")\n",
    "\n",
    "xlabel = fig.text(\n",
    "    0.5*(left+right), -0.01, \"Transfer proportion\", ha=\"center\", va=\"bottom\", rotation=\"horizontal\"\n",
    ")\n",
    "\n",
    "for origin, destination in it.product(range(n_clusters), repeat=2):\n",
    "\n",
    "    ax = axes[origin, destination]\n",
    "    ax.set_yscale(\"log\")\n",
    "\n",
    "    if origin != destination:\n",
    "        data = moving_results[\n",
    "            (moving_results[\"origin\"] == origin)\n",
    "            & (moving_results[\"destination\"] == destination)\n",
    "        ]\n",
    "\n",
    "        lines, labels = [], []\n",
    "        for label, subdata in data.groupby(\"customer_class\"):\n",
    "\n",
    "            _, mean, _ = get_plotting_data(subdata, \"system_time\")\n",
    "\n",
    "            line = ax.plot(mean)\n",
    "            lines.append(line[0])\n",
    "            labels.append(label)\n",
    "\n",
    "        ax.set_title(f\"{origin} to {destination}\")\n",
    "\n",
    "legend = ax.legend(\n",
    "    lines,\n",
    "    labels,\n",
    "    ncol=n_clusters,\n",
    "    loc=\"upper center\",\n",
    "    bbox_to_anchor=(0.5, 1.08),\n",
    "    prop={'size': 12},\n",
    "    title=\"Cluster\",\n",
    ")\n",
    "\n",
    "plt.tight_layout()\n",
    "plt.savefig(\n",
    "    \"../img/moving_time_split.pdf\",\n",
    "    bbox_extra_artists=(xlabel, ylabel, legend),\n",
    "    bbox_inches=\"tight\",\n",
    "    transparent=True,\n",
    ")"
   ]
  },
  {
   "cell_type": "code",
   "execution_count": null,
   "metadata": {},
   "outputs": [],
   "source": []
  }
 ],
 "metadata": {
  "kernelspec": {
   "display_name": "copd-paper",
   "language": "python",
   "name": "copd-paper"
  },
  "language_info": {
   "codemirror_mode": {
    "name": "ipython",
    "version": 3
   },
   "file_extension": ".py",
   "mimetype": "text/x-python",
   "name": "python",
   "nbconvert_exporter": "python",
   "pygments_lexer": "ipython3",
   "version": "3.7.6"
  }
 },
 "nbformat": 4,
 "nbformat_minor": 4
}
